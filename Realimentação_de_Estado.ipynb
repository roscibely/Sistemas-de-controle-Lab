{
  "nbformat": 4,
  "nbformat_minor": 0,
  "metadata": {
    "colab": {
      "name": "Realimentação de Estado.ipynb",
      "provenance": [],
      "collapsed_sections": [],
      "authorship_tag": "ABX9TyMTanPieRLZebmuJnvCliEG",
      "include_colab_link": true
    },
    "kernelspec": {
      "name": "python3",
      "display_name": "Python 3"
    }
  },
  "cells": [
    {
      "cell_type": "markdown",
      "metadata": {
        "id": "view-in-github",
        "colab_type": "text"
      },
      "source": [
        "<a href=\"https://colab.research.google.com/github/roscibely/Sistemas-de-controle-Lab/blob/main/Realimenta%C3%A7%C3%A3o_de_Estado.ipynb\" target=\"_parent\"><img src=\"https://colab.research.google.com/assets/colab-badge.svg\" alt=\"Open In Colab\"/></a>"
      ]
    },
    {
      "cell_type": "code",
      "metadata": {
        "id": "Tp_gZxqEdPgv",
        "colab": {
          "base_uri": "https://localhost:8080/"
        },
        "outputId": "d838579c-cb22-4bf1-ef31-323c94f5e1d1"
      },
      "source": [
        "!pip install control #Necessário para fazer o download da biblioteca control"
      ],
      "execution_count": 1,
      "outputs": [
        {
          "output_type": "stream",
          "text": [
            "Collecting control\n",
            "\u001b[?25l  Downloading https://files.pythonhosted.org/packages/e9/7f/e903340dde3ad2be21578828a23d80b47f4163443310882b05da96fba5f4/control-0.8.4.tar.gz (261kB)\n",
            "\r\u001b[K     |█▎                              | 10kB 13.7MB/s eta 0:00:01\r\u001b[K     |██▌                             | 20kB 19.0MB/s eta 0:00:01\r\u001b[K     |███▊                            | 30kB 9.4MB/s eta 0:00:01\r\u001b[K     |█████                           | 40kB 6.1MB/s eta 0:00:01\r\u001b[K     |██████▎                         | 51kB 7.3MB/s eta 0:00:01\r\u001b[K     |███████▌                        | 61kB 8.5MB/s eta 0:00:01\r\u001b[K     |████████▊                       | 71kB 8.4MB/s eta 0:00:01\r\u001b[K     |██████████                      | 81kB 9.2MB/s eta 0:00:01\r\u001b[K     |███████████▎                    | 92kB 9.7MB/s eta 0:00:01\r\u001b[K     |████████████▌                   | 102kB 8.0MB/s eta 0:00:01\r\u001b[K     |█████████████▊                  | 112kB 8.0MB/s eta 0:00:01\r\u001b[K     |███████████████                 | 122kB 8.0MB/s eta 0:00:01\r\u001b[K     |████████████████▎               | 133kB 8.0MB/s eta 0:00:01\r\u001b[K     |█████████████████▌              | 143kB 8.0MB/s eta 0:00:01\r\u001b[K     |██████████████████▊             | 153kB 8.0MB/s eta 0:00:01\r\u001b[K     |████████████████████            | 163kB 8.0MB/s eta 0:00:01\r\u001b[K     |█████████████████████▎          | 174kB 8.0MB/s eta 0:00:01\r\u001b[K     |██████████████████████▌         | 184kB 8.0MB/s eta 0:00:01\r\u001b[K     |███████████████████████▉        | 194kB 8.0MB/s eta 0:00:01\r\u001b[K     |█████████████████████████       | 204kB 8.0MB/s eta 0:00:01\r\u001b[K     |██████████████████████████▎     | 215kB 8.0MB/s eta 0:00:01\r\u001b[K     |███████████████████████████▌    | 225kB 8.0MB/s eta 0:00:01\r\u001b[K     |████████████████████████████▉   | 235kB 8.0MB/s eta 0:00:01\r\u001b[K     |██████████████████████████████  | 245kB 8.0MB/s eta 0:00:01\r\u001b[K     |███████████████████████████████▎| 256kB 8.0MB/s eta 0:00:01\r\u001b[K     |████████████████████████████████| 266kB 8.0MB/s \n",
            "\u001b[?25hRequirement already satisfied: numpy in /usr/local/lib/python3.7/dist-packages (from control) (1.19.5)\n",
            "Requirement already satisfied: scipy in /usr/local/lib/python3.7/dist-packages (from control) (1.4.1)\n",
            "Requirement already satisfied: matplotlib in /usr/local/lib/python3.7/dist-packages (from control) (3.2.2)\n",
            "Requirement already satisfied: pyparsing!=2.0.4,!=2.1.2,!=2.1.6,>=2.0.1 in /usr/local/lib/python3.7/dist-packages (from matplotlib->control) (2.4.7)\n",
            "Requirement already satisfied: python-dateutil>=2.1 in /usr/local/lib/python3.7/dist-packages (from matplotlib->control) (2.8.1)\n",
            "Requirement already satisfied: kiwisolver>=1.0.1 in /usr/local/lib/python3.7/dist-packages (from matplotlib->control) (1.3.1)\n",
            "Requirement already satisfied: cycler>=0.10 in /usr/local/lib/python3.7/dist-packages (from matplotlib->control) (0.10.0)\n",
            "Requirement already satisfied: six>=1.5 in /usr/local/lib/python3.7/dist-packages (from python-dateutil>=2.1->matplotlib->control) (1.15.0)\n",
            "Building wheels for collected packages: control\n",
            "  Building wheel for control (setup.py) ... \u001b[?25l\u001b[?25hdone\n",
            "  Created wheel for control: filename=control-0.8.4-py2.py3-none-any.whl size=276947 sha256=d1c72262ab4d375370865d4858b9af482d99cc6757c9c52c60bc46501d478c87\n",
            "  Stored in directory: /root/.cache/pip/wheels/3e/a4/9a/8b6ad43fcb2aba7debf8188b60a3def7aaa9a11582b7929ead\n",
            "Successfully built control\n",
            "Installing collected packages: control\n",
            "Successfully installed control-0.8.4\n"
          ],
          "name": "stdout"
        }
      ]
    },
    {
      "cell_type": "markdown",
      "metadata": {
        "id": "QxccQZTBdhEi"
      },
      "source": [
        "## 1. Bibliotecas necessárias"
      ]
    },
    {
      "cell_type": "code",
      "metadata": {
        "id": "UuOeBlqeddo3"
      },
      "source": [
        "import numpy as np\r\n",
        "import control as control\r\n",
        "import matplotlib.pyplot as plt\r\n",
        "from control.matlab import *"
      ],
      "execution_count": 2,
      "outputs": []
    },
    {
      "cell_type": "markdown",
      "metadata": {
        "id": "2tisa-UIdnZW"
      },
      "source": [
        "## 2. Definição do modelo no espaço de estado"
      ]
    },
    {
      "cell_type": "code",
      "metadata": {
        "colab": {
          "base_uri": "https://localhost:8080/"
        },
        "id": "WBwRlQYPdsGL",
        "outputId": "0230b434-bbaa-417c-ad14-2b4428a7f872"
      },
      "source": [
        "#Definindo os parametros do sistema \r\n",
        "a1 = 0.17813919765      # Diâmetro do orifício do tanque (cm²) \r\n",
        "a2 = a1\r\n",
        "A1 = 15.5179            # Área da base do tanque (cm²) \r\n",
        "A2 = A1\r\n",
        "g = 981                 # Aceleração gravitacional (cm/s²) \r\n",
        "km = 3*4.5              # Constante do fluxo da bomba cm³/s.V \r\n",
        "L20 = 15                # Constante da ODEs \r\n",
        "L10 = ( (a2**2)/(a1**2) ) * L20\r\n",
        "#####################  Espaço de estado #######################################\r\n",
        "A11 = -1*(a1/A1)*np.sqrt(g/(2*L10))\r\n",
        "A12 = 0\r\n",
        "A21 = (a1/A2)*np.sqrt(g/(2*L10))\r\n",
        "A22 = -1*(a2/A2)*np.sqrt(g/(2*L20))\r\n",
        "B1 = (km/A1)\r\n",
        "B2 = 0.0\r\n",
        "A=np.matrix([[A11, A12],\r\n",
        "             [A21, A22]])\r\n",
        "B=np.matrix([[B1],\r\n",
        "            [B2]]) \r\n",
        "C=np.array([[0, 1]])\r\n",
        "D=0\r\n",
        "print('A=',A, '\\nB=',B)"
      ],
      "execution_count": 3,
      "outputs": [
        {
          "output_type": "stream",
          "text": [
            "A= [[-0.06564481  0.        ]\n",
            " [ 0.06564481 -0.06564481]] \n",
            "B= [[0.86996307]\n",
            " [0.        ]]\n"
          ],
          "name": "stdout"
        }
      ]
    },
    {
      "cell_type": "code",
      "metadata": {
        "id": "_Yrho9YPeCnv"
      },
      "source": [
        "# Matrizes aumentadas\r\n",
        "Aa= np.matrix([[0, 0, -1],\r\n",
        "               [0, A11, A12],\r\n",
        "              [0, A21, A22]              \r\n",
        "])\r\n",
        "Bb=np.matrix([[0],\r\n",
        "              [B1],\r\n",
        "            [B2]])\r\n",
        "\r\n",
        "Cc=np.array([[0, 0, 1]])"
      ],
      "execution_count": 4,
      "outputs": []
    },
    {
      "cell_type": "markdown",
      "metadata": {
        "id": "hNQt3l1Xf5Kv"
      },
      "source": [
        "## 3. Calculo do controlador utilizando o método de Ackermann"
      ]
    },
    {
      "cell_type": "code",
      "metadata": {
        "colab": {
          "base_uri": "https://localhost:8080/"
        },
        "id": "_M5lm6mj9avT",
        "outputId": "c017ed37-7211-4ab9-c3c2-cdc5fe01686e"
      },
      "source": [
        "K = acker(Aa, Bb, [-1.050535118591215,-0.6563477538054, -0.1563477538054])\r\n",
        "print(K)"
      ],
      "execution_count": 6,
      "outputs": [
        {
          "output_type": "stream",
          "text": [
            "[[-1.88770874  1.99082128 14.68048618]]\n"
          ],
          "name": "stdout"
        }
      ]
    },
    {
      "cell_type": "markdown",
      "metadata": {
        "id": "zLxs-BafgLPH"
      },
      "source": [
        "## 4. Simulação"
      ]
    },
    {
      "cell_type": "code",
      "metadata": {
        "colab": {
          "base_uri": "https://localhost:8080/",
          "height": 279
        },
        "id": "tDG4ZDE_gKuz",
        "outputId": "d4db2ff6-2701-44fc-cadb-f1c8f41c6944"
      },
      "source": [
        "clsys = ss(Aa - Bb*K, Bb, Cc, D) # Sistema em malha fechada \r\n",
        "tf = 100.00                  # Tempo de simulação em segundos \r\n",
        "dt = 0.01                    # Tempo de amostragem\r\n",
        "t = np.arange(0, tf, dt)\r\n",
        "r = np.zeros(t.shape)\r\n",
        "ruido=np.random.normal(0, 0.0004, len(t))\r\n",
        "T, Y, X = control.forced_response(clsys, t, r, X0=[0.1, 1, 0])\r\n",
        "plt.figure()\r\n",
        "plt.plot(T,Y+ruido, 'c')\r\n",
        "plt.plot(t,r, 'r')\r\n",
        "plt.legend([\"y(t)\", \"r(t)\"])\r\n",
        "plt.ylabel('Nível (cm)')\r\n",
        "plt.xlabel('Tempo (s)')\r\n",
        "plt.grid('True')"
      ],
      "execution_count": null,
      "outputs": [
        {
          "output_type": "display_data",
          "data": {
            "image/png": "[encoded data removed]",
            "text/plain": [
              "<Figure size 432x288 with 1 Axes>"
            ]
          },
          "metadata": {
            "tags": [],
            "needs_background": "light"
          }
        }
      ]
    },
    {
      "cell_type": "code",
      "metadata": {
        "colab": {
          "base_uri": "https://localhost:8080/",
          "height": 265
        },
        "id": "UVAr58tQ5exX",
        "outputId": "4cd6d1c9-9174-4989-b640-353e0465c6cf"
      },
      "source": [
        "from scipy.integrate import odeint\r\n",
        "\r\n",
        "\r\n",
        "tf = 20                      # Tempo de simulação em segundos \r\n",
        "dt = 0.01                    # Tempo de amostragem\r\n",
        "t = np.arange(0, tf, dt)\r\n",
        "\r\n",
        "#Referencia \r\n",
        "h1ref=np.zeros(tf)\r\n",
        "h1ref[0:tf]=15\r\n",
        "\r\n",
        "\r\n",
        "def sistema(y,t):\r\n",
        "  x1,x2 = y #Estados do sistema\r\n",
        "  a1 = 0.17813919765      # Diâmetro do orifício do tanque (cm²) \r\n",
        "  a2 = a1\r\n",
        "  A1 = 15.5179            # Área da base do tanque (cm²) \r\n",
        "  A2 = A1\r\n",
        "  g = 981                 # Aceleração gravitacional (cm/s²) \r\n",
        "  km = 3*4.5              # Constante do fluxo da bomba cm³/s.V \r\n",
        "  L20 = 15                # Constante da ODEs \r\n",
        "  L10 = ( (a2**2)/(a1**2) ) * L20\r\n",
        "  u = -K.item(0)*(150-x2) -(K.item(1)*x1 + K.item(2)*x2) #Sinal de controle\r\n",
        "  dydt = []\r\n",
        "  dydt=[ -1*(a1/A1)*np.sqrt(g/(2*L10))*x1 + (km/A1)*u, (a1/A2)*np.sqrt(g/(2*L10))*x1 -(a2/A2)*np.sqrt(g/(2*L20))*x2 ] # Dinamica\r\n",
        "  return dydt\r\n",
        "\r\n",
        "\r\n",
        "n=np.random.normal(0, 1, len(t))\r\n",
        "x0=[0, 0.1]\r\n",
        "s = odeint(sistema,x0,t) \r\n",
        "fig = plt.figure()\r\n",
        "plt.plot(t,s[:,0]+n,'y--', linewidth=3.0)\r\n",
        "plt.plot(t,s[:,1]+n,'r-.', linewidth=3.0)\r\n",
        "plt.plot(h1ref,'b', linewidth=3.0)\r\n",
        "plt.legend(['$L_1$', '$L_2$', 'r(t)'])\r\n",
        "plt.grid(True)"
      ],
      "execution_count": 56,
      "outputs": [
        {
          "output_type": "display_data",
          "data": {
            "image/png": "[encoded data removed]",
            "text/plain": [
              "<Figure size 432x288 with 1 Axes>"
            ]
          },
          "metadata": {
            "tags": [],
            "needs_background": "light"
          }
        }
      ]
    }
  ]
}