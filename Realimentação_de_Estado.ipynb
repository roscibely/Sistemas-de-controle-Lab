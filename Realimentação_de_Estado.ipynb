{
  "nbformat": 4,
  "nbformat_minor": 0,
  "metadata": {
    "colab": {
      "name": "Realimentação de Estado.ipynb",
      "provenance": [],
      "authorship_tag": "ABX9TyP5e3mGXMUc9KKCpkh/1WmX",
      "include_colab_link": true
    },
    "kernelspec": {
      "name": "python3",
      "display_name": "Python 3"
    }
  },
  "cells": [
    {
      "cell_type": "markdown",
      "metadata": {
        "id": "view-in-github",
        "colab_type": "text"
      },
      "source": [
        "<a href=\"https://colab.research.google.com/github/roscibely/Sistemas-de-controle-Lab/blob/main/Realimenta%C3%A7%C3%A3o_de_Estado.ipynb\" target=\"_parent\"><img src=\"https://colab.research.google.com/assets/colab-badge.svg\" alt=\"Open In Colab\"/></a>"
      ]
    },
    {
      "cell_type": "code",
      "metadata": {
        "id": "Tp_gZxqEdPgv"
      },
      "source": [
        "!pip install control #Necessário para fazer o download da biblioteca control"
      ],
      "execution_count": null,
      "outputs": []
    },
    {
      "cell_type": "markdown",
      "metadata": {
        "id": "QxccQZTBdhEi"
      },
      "source": [
        "## 1. Bibliotecas necessárias"
      ]
    },
    {
      "cell_type": "code",
      "metadata": {
        "id": "UuOeBlqeddo3"
      },
      "source": [
        "import numpy as np\r\n",
        "import control as control\r\n",
        "import matplotlib.pyplot as plt\r\n",
        "from control.matlab import *"
      ],
      "execution_count": 3,
      "outputs": []
    },
    {
      "cell_type": "markdown",
      "metadata": {
        "id": "2tisa-UIdnZW"
      },
      "source": [
        "## 2. Definição do modelo no espaço de estado"
      ]
    },
    {
      "cell_type": "code",
      "metadata": {
        "colab": {
          "base_uri": "https://localhost:8080/"
        },
        "id": "WBwRlQYPdsGL",
        "outputId": "41201cae-dcf3-446c-c0a6-0184775f76c8"
      },
      "source": [
        "#Definindo os parametros do sistema \r\n",
        "a1 = 0.17813919765      # Diâmetro do orifício do tanque (cm²) \r\n",
        "a2 = a1\r\n",
        "A1 = 15.5179            # Área da base do tanque (cm²) \r\n",
        "A2 = A1\r\n",
        "g = 981                 # Aceleração gravitacional (cm/s²) \r\n",
        "km = 3*4.5              # Constante do fluxo da bomba cm³/s.V \r\n",
        "L20 = 15                # Constante da ODEs \r\n",
        "L10 = ( (a2**2)/(a1**2) ) * L20\r\n",
        "#####################  Espaço de estado #######################################\r\n",
        "A11 = -1*(a1/A1)*np.sqrt(g/(2*L10))\r\n",
        "A12 = 0\r\n",
        "A21 = (a1/A2)*np.sqrt(g/(2*L10))\r\n",
        "A22 = -1*(a2/A2)*np.sqrt(g/(2*L20))\r\n",
        "B1 = (km/A1)\r\n",
        "B2 = 0.0\r\n",
        "A=np.matrix([[A11, A12],\r\n",
        "             [A21, A22]])\r\n",
        "B=np.matrix([[B1],\r\n",
        "            [B2]]) \r\n",
        "C=np.array([[0, 1]])\r\n",
        "D=0\r\n",
        "print('A=',A, '\\nB=',B)"
      ],
      "execution_count": 55,
      "outputs": [
        {
          "output_type": "stream",
          "text": [
            "A= [[-0.06564481  0.        ]\n",
            " [ 0.06564481 -0.06564481]] \n",
            "B= [[0.86996307]\n",
            " [0.        ]]\n"
          ],
          "name": "stdout"
        }
      ]
    },
    {
      "cell_type": "code",
      "metadata": {
        "id": "_Yrho9YPeCnv"
      },
      "source": [
        "# Matrizes aumentadas\r\n",
        "Aa= np.matrix([[0, 0, -1],\r\n",
        "               [0, A11, A12],\r\n",
        "              [0, A21, A22]              \r\n",
        "])\r\n",
        "Bb=np.matrix([[0],\r\n",
        "              [B1],\r\n",
        "            [B2]])\r\n",
        "\r\n",
        "Cc=np.array([[0, 0, 1]])"
      ],
      "execution_count": 197,
      "outputs": []
    },
    {
      "cell_type": "markdown",
      "metadata": {
        "id": "hNQt3l1Xf5Kv"
      },
      "source": [
        "## 3. Calculo do controlador utilizando o método de Ackermann"
      ]
    },
    {
      "cell_type": "code",
      "metadata": {
        "colab": {
          "base_uri": "https://localhost:8080/"
        },
        "id": "_M5lm6mj9avT",
        "outputId": "2ac26ac7-596b-4f7c-fb6c-9e73f038c1e4"
      },
      "source": [
        "K = acker(Aa, Bb, [-1.050535118591215,-0.6563477538054, -0.1563477538054])\r\n",
        "print(K)"
      ],
      "execution_count": 274,
      "outputs": [
        {
          "output_type": "stream",
          "text": [
            "[[-1.88770874  1.99082128 14.68048618]]\n"
          ],
          "name": "stdout"
        }
      ]
    },
    {
      "cell_type": "markdown",
      "metadata": {
        "id": "zLxs-BafgLPH"
      },
      "source": [
        "## 4. Simulação"
      ]
    },
    {
      "cell_type": "code",
      "metadata": {
        "colab": {
          "base_uri": "https://localhost:8080/",
          "height": 279
        },
        "id": "tDG4ZDE_gKuz",
        "outputId": "d4db2ff6-2701-44fc-cadb-f1c8f41c6944"
      },
      "source": [
        "clsys = ss(Aa - Bb*K, Bb, Cc, D) # Sistema em malha fechada \r\n",
        "tf = 100.00                  # Tempo de simulação em segundos \r\n",
        "dt = 0.01                    # Tempo de amostragem\r\n",
        "t = np.arange(0, tf, dt)\r\n",
        "r = np.zeros(t.shape)\r\n",
        "ruido=np.random.normal(0, 0.0004, len(t))\r\n",
        "T, Y, X = control.forced_response(clsys, t, r, X0=[0.1, 1, 0])\r\n",
        "plt.figure()\r\n",
        "plt.plot(T,Y+ruido, 'c')\r\n",
        "plt.plot(t,r, 'r')\r\n",
        "plt.legend([\"y(t)\", \"r(t)\"])\r\n",
        "plt.ylabel('Nível (cm)')\r\n",
        "plt.xlabel('Tempo (s)')\r\n",
        "plt.grid('True')"
      ],
      "execution_count": 303,
      "outputs": [
        {
          "output_type": "display_data",
          "data": {
            "image/png": "[encoded data removed]",
            "text/plain": [
              "<Figure size 432x288 with 1 Axes>"
            ]
          },
          "metadata": {
            "tags": [],
            "needs_background": "light"
          }
        }
      ]
    }
  ]
}