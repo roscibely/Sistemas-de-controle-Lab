{
  "nbformat": 4,
  "nbformat_minor": 0,
  "metadata": {
    "colab": {
      "name": "Espaço de estado.ipynb",
      "provenance": [],
      "collapsed_sections": [],
      "toc_visible": true,
      "authorship_tag": "ABX9TyOt+K5jcHfJ4+Pppi3eBPq7",
      "include_colab_link": true
    },
    "kernelspec": {
      "name": "python3",
      "display_name": "Python 3"
    }
  },
  "cells": [
    {
      "cell_type": "markdown",
      "metadata": {
        "id": "view-in-github",
        "colab_type": "text"
      },
      "source": [
        "<a href=\"https://colab.research.google.com/github/roscibely/Sistemas-de-controle-Lab/blob/main/Espa%C3%A7o_de_estado.ipynb\" target=\"_parent\"><img src=\"https://colab.research.google.com/assets/colab-badge.svg\" alt=\"Open In Colab\"/></a>"
      ]
    },
    {
      "cell_type": "markdown",
      "metadata": {
        "id": "miOYs54HKP47"
      },
      "source": [
        "# 1. Controle no Espaço de Estados"
      ]
    },
    {
      "cell_type": "markdown",
      "metadata": {
        "id": "ZYvKbshYKYOn"
      },
      "source": [
        "- Aprimoramento dos conceitos envolvidos na teoria de espaço de estados;\r\n",
        "- Introdução ao projeto de controladores no espaço de estados;\r\n"
      ]
    },
    {
      "cell_type": "markdown",
      "metadata": {
        "id": "5V1EXJs-KiDa"
      },
      "source": [
        "## 1.1 Introdução \r\n",
        "\r\n",
        "O controle no Espaço de Estados é aplicável a sistemas de múltiplas entradas e múltiplas saídas, que podem ser lineares ou não-lineares, invariantes ou variantes no tempo e com condições iniciais nulas ou não. \r\n",
        "\r\n",
        "Considera-se que o estado de um sistema no instante $t_0$ é a quantidade de informação em $t_0$, que, junto\r\n",
        "com a entrada $u(t)$ em , determina univocamente o comportamento do sistema para todo .\r\n",
        "\r\n",
        "Assim, a representação de um sistema dinâmico no espaço de estados pode ser descrita pelas seguintes equações:\r\n",
        "\r\n",
        "\\begin{array}{c}\r\n",
        "\\dot{x}(t) = f(x(t),u(t),t)\\\\\r\n",
        "y(t) = g(x(t),u(t),t)\\\\\r\n",
        "\\end{array}\r\n",
        "\r\n"
      ]
    },
    {
      "cell_type": "code",
      "metadata": {
        "id": "QxzZfMqQNoXk"
      },
      "source": [
        "!pip install control #Necessário para fazer o download da biblioteca control"
      ],
      "execution_count": null,
      "outputs": []
    },
    {
      "cell_type": "code",
      "metadata": {
        "id": "2CqYgdkOMFQc"
      },
      "source": [
        "#Bibliotecas necessárias\r\n",
        "import numpy as np\r\n",
        "import control as control\r\n",
        "import matplotlib.pyplot as plt\r\n",
        "from control.matlab import *\r\n",
        "import sympy as sy"
      ],
      "execution_count": 47,
      "outputs": []
    },
    {
      "cell_type": "markdown",
      "metadata": {
        "id": "d72cbjRakmfg"
      },
      "source": [
        "## 1.2 Definindo o sistema \r\n",
        "\r\n",
        "Uma possível representação do modelo no Espaço de Estados (EE) dos tanques acoplado pode ser dada por, \r\n",
        "\r\n",
        "\\begin{array}{c}\r\n",
        "\\dot{x}(t) = Ax(t)+ Bu(t)\\\\\r\n",
        "\\end{array}\r\n",
        "com \r\n",
        "\r\n",
        "$A=\\left[ \\begin{array}{cc}\r\n",
        "-\\frac{a_1}{A_1}\\sqrt{\\frac{g}{2L_{10}}} & 0\\\\\r\n",
        "\\frac{a_1}{A_2}\\sqrt{\\frac{g}{2L_{10}}} & -\\frac{a_2}{A_2}\\sqrt{\\frac{g}{2L_{20}}}\r\n",
        "\\end{array} \\right]$\r\n",
        "\r\n",
        "$B=\\left[ \\begin{array}{c}\r\n",
        "\\frac{k_m}{A_1} \\\\ 0\r\n",
        "\\end{array} \\right] $"
      ]
    },
    {
      "cell_type": "code",
      "metadata": {
        "id": "XXCZu5cheeLy",
        "colab": {
          "base_uri": "https://localhost:8080/"
        },
        "outputId": "6a13b43e-46fa-4607-ea6e-0ff293b682ec"
      },
      "source": [
        "#Definindo o modelo do sistema \r\n",
        "\r\n",
        "a1 = 0.17813919765      # Diâmetro do orifício do tanque (cm²) \r\n",
        "a2 = a1\r\n",
        "A1 = 15.5179            # Área da base do tanque (cm²) \r\n",
        "A2 = A1\r\n",
        "g = 9.807               # Aceleração gravitacional (m/s²) \r\n",
        "km = 3*4.6                # Constante de fluxo da bomba cm³/s.V \r\n",
        "L20 = 15                # Constante da ODEs \r\n",
        "L10 = ( (a2**2)/(a1**2) ) * L20\r\n",
        "\r\n",
        "#####################  Espaço de estado #######################################\r\n",
        "A11 = -1*(a1/A1)*np.sqrt(g/(2*L10))\r\n",
        "A12 = 0\r\n",
        "A21 = (a1/A2)*np.sqrt(g/(2*L10))\r\n",
        "A22 = -1*(a2/A2)*np.sqrt(g/(2*L20))\r\n",
        "B1 = (km/A1)\r\n",
        "B2 = 0.0\r\n",
        "A=sy.Matrix([[A11, A12],\r\n",
        "             [A21, A22]])\r\n",
        "B=np.matrix([[B1],\r\n",
        "            [B2]]) \r\n",
        "C=np.array([[0, 1]])\r\n",
        "D=0\r\n",
        "print('A=',A, '\\nB=',B)"
      ],
      "execution_count": 170,
      "outputs": [
        {
          "output_type": "stream",
          "text": [
            "A= Matrix([[-0.00656347753805401, 0], [0.00656347753805401, -0.00656347753805401]]) \n",
            "B= [[0.88929559]\n",
            " [0.        ]]\n"
          ],
          "name": "stdout"
        }
      ]
    },
    {
      "cell_type": "markdown",
      "metadata": {
        "id": "vbLUmMrYlDxw"
      },
      "source": [
        "## 1.3 Matriz de controlabilidade"
      ]
    },
    {
      "cell_type": "code",
      "metadata": {
        "colab": {
          "base_uri": "https://localhost:8080/"
        },
        "id": "AgbJeYLOdG9_",
        "outputId": "369ad596-3413-481f-89a3-54cab8a5d355"
      },
      "source": [
        "Cm=ctrb(A,B)\r\n",
        "print(Cm)"
      ],
      "execution_count": 106,
      "outputs": [
        {
          "output_type": "stream",
          "text": [
            "[[ 0.88929559 -0.00583687]\n",
            " [ 0.          0.00583687]]\n"
          ],
          "name": "stdout"
        }
      ]
    },
    {
      "cell_type": "markdown",
      "metadata": {
        "id": "3x8NEdaYlOJi"
      },
      "source": [
        "## 1.4 Polinômio característico "
      ]
    },
    {
      "cell_type": "code",
      "metadata": {
        "colab": {
          "base_uri": "https://localhost:8080/",
          "height": 57
        },
        "id": "seOy4SExO3mB",
        "outputId": "ccdbd435-7321-46c0-8a27-64dc6f048d2e"
      },
      "source": [
        "lamda = sy.symbols('lamda')\r\n",
        "poli = A.charpoly(lamda) \r\n",
        "poli= sy.factor(p.as_expr()) #Polinômio característico\r\n",
        "print('Polinômio característico:')\r\n",
        "sy.factor(p.as_expr())"
      ],
      "execution_count": 104,
      "outputs": [
        {
          "output_type": "stream",
          "text": [
            "Polinômio característico:\n"
          ],
          "name": "stdout"
        },
        {
          "output_type": "execute_result",
          "data": {
            "text/latex": "$\\displaystyle 1.0 \\left(1.0 \\lambda^{2} + 0.013126955076108 \\lambda + 4.30792373925396 \\cdot 10^{-5}\\right)$",
            "text/plain": [
              "1.0*(1.0*lamda**2 + 0.013126955076108*lamda + 4.30792373925396e-5)"
            ]
          },
          "metadata": {
            "tags": []
          },
          "execution_count": 104
        }
      ]
    },
    {
      "cell_type": "code",
      "metadata": {
        "colab": {
          "base_uri": "https://localhost:8080/"
        },
        "id": "vxR37l-6eACt",
        "outputId": "aade2d5c-5c0e-4a26-dfe9-da81050cf293"
      },
      "source": [
        "sol =sy.solve(poli)\r\n",
        "print('Solução do polinômio: ', sol)"
      ],
      "execution_count": 105,
      "outputs": [
        {
          "output_type": "stream",
          "text": [
            "Solução do polinômio:  [-0.006563477538054 - 4.50535118591215e-10*I, -0.006563477538054 + 4.50535118591215e-10*I]\n"
          ],
          "name": "stdout"
        }
      ]
    },
    {
      "cell_type": "markdown",
      "metadata": {
        "id": "ijOmUsx0lT0e"
      },
      "source": [
        "## 1.5 Calculo do controlador utilizando o método de  Ackermann"
      ]
    },
    {
      "cell_type": "code",
      "metadata": {
        "colab": {
          "base_uri": "https://localhost:8080/"
        },
        "id": "O6q6yKc-NG56",
        "outputId": "f512cb04-2c6e-4606-e113-b064c8fdde46"
      },
      "source": [
        "K = acker(A, B, [-1.050535118591215,-0.06563477538054])\r\n",
        "print(K)"
      ],
      "execution_count": 154,
      "outputs": [
        {
          "output_type": "stream",
          "text": [
            "[[ 1.2403558  10.56537882]]\n"
          ],
          "name": "stdout"
        }
      ]
    },
    {
      "cell_type": "markdown",
      "metadata": {
        "id": "PsYdPzIZlhSV"
      },
      "source": [
        "## 1.6 Simulação "
      ]
    },
    {
      "cell_type": "code",
      "metadata": {
        "colab": {
          "base_uri": "https://localhost:8080/",
          "height": 295
        },
        "id": "uUfkOY4kageH",
        "outputId": "61814f6d-3811-477c-85b5-fd8787eba228"
      },
      "source": [
        "clsys = ss(A - B*K, B, C, D) # Sistema em malha fechada \r\n",
        "tf = 100.00                  # Tempo de simulação em segundos \r\n",
        "dt = 0.01                    # Tempo de amostragem\r\n",
        "t = np.arange(0, tf, dt)\r\n",
        "r = np.zeros(t.shape)\r\n",
        "ruido=np.random.normal(0, 0.4, len(t))\r\n",
        "T, Y, X = control.forced_response(clsys, t, r, X0=[1, 20])\r\n",
        "plt.figure()\r\n",
        "plt.plot(T,Y+ruido, 'y')\r\n",
        "plt.legend([\"Saída\"])\r\n",
        "plt.title('Resposta forçada')\r\n",
        "plt.ylabel('Nível (cm)')\r\n",
        "plt.xlabel('Tempo (s)')\r\n",
        "plt.grid('True')"
      ],
      "execution_count": 191,
      "outputs": [
        {
          "output_type": "display_data",
          "data": {
            "image/png": "[encoded data removed]",
            "text/plain": [
              "<Figure size 432x288 with 1 Axes>"
            ]
          },
          "metadata": {
            "tags": [],
            "needs_background": "light"
          }
        }
      ]
    },
    {
      "cell_type": "markdown",
      "metadata": {
        "id": "QK0AiRv9kTNR"
      },
      "source": [
        "Para mais funções veja: https://python-control.readthedocs.io/en/0.8.3/control.html\r\n"
      ]
    }
  ]
}