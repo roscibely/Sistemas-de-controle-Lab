{
  "nbformat": 4,
  "nbformat_minor": 0,
  "metadata": {
    "colab": {
      "name": "Controle no Espaço de Estados: Observadores de Estado.ipynb",
      "provenance": [],
      "collapsed_sections": [],
      "authorship_tag": "ABX9TyP4F3Oy16pOLFyGzW91E20r",
      "include_colab_link": true
    },
    "kernelspec": {
      "name": "python3",
      "display_name": "Python 3"
    },
    "language_info": {
      "name": "python"
    }
  },
  "cells": [
    {
      "cell_type": "markdown",
      "metadata": {
        "id": "view-in-github",
        "colab_type": "text"
      },
      "source": [
        "<a href=\"https://colab.research.google.com/github/roscibely/Sistemas-de-controle-Lab/blob/main/Controle_no_Espa%C3%A7o_de_Estados_Observadores_de_Estado.ipynb\" target=\"_parent\"><img src=\"https://colab.research.google.com/assets/colab-badge.svg\" alt=\"Open In Colab\"/></a>"
      ]
    },
    {
      "cell_type": "markdown",
      "metadata": {
        "id": "dTvTk1WJezVO"
      },
      "source": [
        "# Controle no Espaço de Estados: Observadores de Estado\n",
        "\n",
        "O observador de estados consiste em um mecanismo para estimação dos estados do sistema. É uma solução útil quando os estados reais da planta não estão accessíveis, situação muito comum na prática."
      ]
    },
    {
      "cell_type": "code",
      "metadata": {
        "id": "z0VDdLudexxq"
      },
      "source": [
        "!pip install control #Necessário para fazer o download da biblioteca control"
      ],
      "execution_count": null,
      "outputs": []
    },
    {
      "cell_type": "markdown",
      "metadata": {
        "id": "yJN1ZWlYe4wO"
      },
      "source": [
        "## 1.  Bibliotecas necessárias\n",
        "\n",
        "\n",
        "\n",
        "\n"
      ]
    },
    {
      "cell_type": "code",
      "metadata": {
        "id": "bhYbNlWve6Ku"
      },
      "source": [
        "import numpy as np\n",
        "import control as control\n",
        "import matplotlib.pyplot as plt\n",
        "from control.matlab import *"
      ],
      "execution_count": 3,
      "outputs": []
    },
    {
      "cell_type": "markdown",
      "metadata": {
        "id": "0Z5n208jffq9"
      },
      "source": [
        "## 2. Definição do modelo no espaço de estado\n",
        "\n",
        "Considere o seguinte sistema \n",
        "\n",
        "$$\\dot{x}(t) = \\left[\\begin{array}{cc}-1 & 2 \\\\ 2 & -1 \\end{array} \\right] x(t)+ \\left[\\begin{array}{c}1 \\\\ 0 \\end{array} \\right] u(t)$$\n",
        "\n",
        "$$y(t)= \\left[\\begin{array}{cc}0 & 1 \\end{array} \\right] x(t)$$"
      ]
    },
    {
      "cell_type": "code",
      "metadata": {
        "id": "BUSNrB0RiyGz"
      },
      "source": [
        "#######  Espaço de estado ########\n",
        "A=np.matrix([[-1, 2],\n",
        "             [2, -1]])\n",
        "B=np.matrix([[1],\n",
        "            [0]]) \n",
        "C=np.array([[0, 1]])\n",
        "D=0"
      ],
      "execution_count": 18,
      "outputs": []
    },
    {
      "cell_type": "markdown",
      "metadata": {
        "id": "zfUd_1gEfplH"
      },
      "source": [
        "## 3. Observador\n",
        "\n",
        "**Observabilidade**\n",
        "  * Definição: O sistema $(A,B,C,D)$ é observável se para todo $x(0)$, o conhecimento da entrada $u(t)$ e da saída $y(t)$ em um tempo finito é suficiente para determinar $x(t)$;\n",
        "\n",
        "  * *Teorema: O sistema $(A,B,C,D)$ é observável se e somente se o posto da matriz de observabilidade é igual a ordem do sistema;*\n",
        "\n",
        "  A matriz de observabilidade é dada por: \n",
        "  $$O = \\left[C\\:\\: CA \\:\\: CA^2 \\: \\ldots \\: CA^{n-1}\\right]^T $$"
      ]
    },
    {
      "cell_type": "markdown",
      "metadata": {
        "id": "hij-78DVhHZC"
      },
      "source": [
        "## 4. Calculando o ganho do observador de estado com o método de Ackermann\n",
        "\n",
        "* Projete um observador de estado de modo a alocar os autovalores de $A-LC$ em $[-12,-12]$; \n"
      ]
    },
    {
      "cell_type": "code",
      "metadata": {
        "colab": {
          "base_uri": "https://localhost:8080/"
        },
        "id": "m_Y5COGigtDH",
        "outputId": "bf50fbb6-8a45-436a-ec82-0120dd9c30a4"
      },
      "source": [
        "L = acker(A.T, C.T, [-12,-12])\n",
        "print(\"L=\",L)"
      ],
      "execution_count": 39,
      "outputs": [
        {
          "output_type": "stream",
          "text": [
            "L= [[62.5 22. ]]\n"
          ],
          "name": "stdout"
        }
      ]
    },
    {
      "cell_type": "markdown",
      "metadata": {
        "id": "drqG5WH7kP8a"
      },
      "source": [
        "A função $acker$ realizar o calculo da matriz \n",
        "$$L^T= \\left[\\begin{array}{cccc}0 & 0 & \\ldots & 1 \\end{array} \\right] \\left[\\begin{array}{cccc}C^T & A^TC^T & \\ldots & (A^{n-1})^TC^T \\end{array} \\right] ^T \\Delta(A)$$\n",
        "\n",
        "* Considerando o sistema em questão com os pólos desejados $po=[-12, -12]$, o polinômio característico desejado é dado por: \n",
        "$$\\Delta (s) = (s+12)(s+12) = s^2 +24s +144$$\n",
        "\n",
        "Portanto, \n",
        "$$\\Delta(A) = \\left[\\begin{array}{cc}125& 44\\\\ 44& 125 \\end{array} \\right]  $$\n",
        "\n",
        "A matriz $L$ é dada por \n",
        "\n",
        "$$L^T= \\left[\\begin{array}{cc}0 &  1 \\end{array} \\right] \\left[\\begin{array}{cc}0.5 & 1 \\\\ 0.5 & 0 \\end{array} \\right] ^T \\left[\\begin{array}{cc}125& 44\\\\ 44& 125 \\end{array} \\right] = \\left[\\begin{array}{cc}62.5 &  22 \\end{array} \\right]^T$$"
      ]
    }
  ]
}